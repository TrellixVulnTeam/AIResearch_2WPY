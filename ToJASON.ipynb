{
 "cells": [
  {
   "cell_type": "markdown",
   "metadata": {},
   "source": [
    "Change Monkey annotation dataformat to JSON"
   ]
  },
  {
   "cell_type": "code",
   "execution_count": null,
   "metadata": {},
   "outputs": [],
   "source": [
    "import json\n",
    "with open('data.txt', 'w') as outfile:\n",
    "    json.dump(data, outfile)"
   ]
  },
  {
   "cell_type": "code",
   "execution_count": null,
   "metadata": {},
   "outputs": [],
   "source": [
    "#image_id \n",
    "#combine image filename and image size in bytes\n",
    "#file photo.jpg of size 16454 bytes -> image-id photo.jpg16454\n",
    "\n",
    "#fileref: a reference to the local file uploaded by user\n",
    "#base64_img_data: contains either the image URL or image data represented in base64 format\n",
    "#file_attributes: a Map() of image file's attributes/ For ex, image captions can be represented by file attributes as \n",
    "    #Map {'caption': 'a white football flying over a red car'}\n",
    "#regions: an array of ImageRegion() objects\n"
   ]
  },
  {
   "cell_type": "code",
   "execution_count": null,
   "metadata": {},
   "outputs": [],
   "source": [
    "#via_region_data.json\n",
    "#this is the format that I want\n",
    "{\"410488422_5f8991f26e_b.jpg129652\":\n",
    "    {\"fileref\":\"\",\n",
    "     \"size\":129652,\n",
    "     \"filename\":\"410488422_5f8991f26e_b.jpg\",\n",
    "     \"base64_img_data\":\"\",\n",
    "     \"file_attributes\":{},\n",
    "     \"regions\":\n",
    "     {\"0\":\n",
    "      {\"shape_attributes\":\n",
    "       {\"name\":\n",
    "        \"polygon\",\n",
    "        \"all_points_x\":\n",
    "        [371,355,330,298,267,236,196,163,149,144,155,173,200,231,268,307,350,366,361,362,363,369,379,371],\n",
    "        \"all_points_y\":\n",
    "        [166,192,217,236,244,242,227,191,158,122,83,53,32,16,10,13,25,40,60,84,111,134,145,166]},\n",
    "       \"region_attributes\":{}},\n",
    "      \"1\":\n",
    "      {\"shape_attributes\":\n",
    "       {\"name\":\n",
    "        \"polygon\",\n",
    "        \"all_points_x\":\n",
    "        [453,417,393,382,371,364,362,363,364,368,381,394,399,524,548,559,567,565,557,545,528,514,514,522,522,515,509,507,507,489,466,453],\n",
    "        \"all_points_y\":\n",
    "        [211,191,166,149,133,111,86,65,51,40,21,5,1,0,24,55,83,113,151,179,198,209,215,219,221,224,226,221,212,218,215,211]},\n",
    "       \"region_attributes\":{}},\n",
    "      \"2\":\n",
    "      {\"shape_attributes\":\n",
    "       {\"name\":\n",
    "        \"polygon\",\n",
    "        \"all_points_x\":\n",
    "        [705,684,672,671,683,702,716,878,893,906,914,913,907,895,870,844,809,787,784,786,782,779,774,754,734,718,705],\n",
    "        \"all_points_y\":\n",
    "        [196,162,122,80,43,15,2,1,19,44,78,117,147,169,197,221,240,244,250,254,254,248,242,238,228,211,196]},\n",
    "       \"region_attributes\":{}}\n",
    "     }\n",
    "    }\n",
    "}"
   ]
  },
  {
   "cell_type": "code",
   "execution_count": 80,
   "metadata": {},
   "outputs": [],
   "source": [
    "from glob import glob\n",
    "import matplotlib.image as mpimg\n",
    "import matplotlib.patches as patches\n",
    "from os import listdir\n",
    "from os.path import isfile, join\n",
    "import os\n",
    "import sys"
   ]
  },
  {
   "cell_type": "code",
   "execution_count": 7,
   "metadata": {},
   "outputs": [
    {
     "name": "stdout",
     "output_type": "stream",
     "text": [
      "/Users/rurikoimai/Desktop/Mask/Mask_RCNN/samples/monkey\r\n"
     ]
    }
   ],
   "source": [
    "!pwd"
   ]
  },
  {
   "cell_type": "code",
   "execution_count": 256,
   "metadata": {},
   "outputs": [
    {
     "name": "stdout",
     "output_type": "stream",
     "text": [
      "{'aggression02DVD_3_36.png366348': {'fileref': '', 'size': 366348, 'filename': 'aggression02DVD_3_36.png', 'base64_img_data': '', 'file_attributes': {}, 'regions': {'0': {'shape_attributes': {'name': 'rect', 'x': [285.456129032, 356.94516129, 435.49483871], 'y': [145.758064516, 149.288387097, 192.53483871], 'height': '200'}, 'region_attributes': {}}, '1': {'shape_attributes': {'name': 'polygon', 'all_points_x': [453, 417, 393, 382, 371, 364, 362, 363, 364, 368, 381, 394, 399, 524, 548, 559, 567, 565, 557, 545, 528, 514, 514, 522, 522, 515, 509, 507, 507, 489, 466, 453], 'all_points_y': [211, 191, 166, 149, 133, 111, 86, 65, 51, 40, 21, 5, 1, 0, 24, 55, 83, 113, 151, 179, 198, 209, 215, 219, 221, 224, 226, 221, 212, 218, 215, 211]}, 'region_attributes': {}}, '2': {'shape_attributes': {'name': 'polygon', 'all_points_x': [705, 684, 672, 671, 683, 702, 716, 878, 893, 906, 914, 913, 907, 895, 870, 844, 809, 787, 784, 786, 782, 779, 774, 754, 734, 718, 705], 'all_points_y': [196, 162, 122, 80, 43, 15, 2, 1, 19, 44, 78, 117, 147, 169, 197, 221, 240, 244, 250, 254, 254, 248, 242, 238, 228, 211, 196]}, 'region_attributes': {}}}}, 'aggression02DVD_8_63.png366659': {'fileref': '', 'size': 366659, 'filename': 'aggression02DVD_8_63.png', 'base64_img_data': '', 'file_attributes': {}, 'regions': {'0': {'shape_attributes': {'name': 'rect', 'x': [285.456129032, 356.94516129, 435.49483871], 'y': [145.758064516, 149.288387097, 192.53483871], 'height': '200'}, 'region_attributes': {}}, '1': {'shape_attributes': {'name': 'polygon', 'all_points_x': [453, 417, 393, 382, 371, 364, 362, 363, 364, 368, 381, 394, 399, 524, 548, 559, 567, 565, 557, 545, 528, 514, 514, 522, 522, 515, 509, 507, 507, 489, 466, 453], 'all_points_y': [211, 191, 166, 149, 133, 111, 86, 65, 51, 40, 21, 5, 1, 0, 24, 55, 83, 113, 151, 179, 198, 209, 215, 219, 221, 224, 226, 221, 212, 218, 215, 211]}, 'region_attributes': {}}, '2': {'shape_attributes': {'name': 'polygon', 'all_points_x': [705, 684, 672, 671, 683, 702, 716, 878, 893, 906, 914, 913, 907, 895, 870, 844, 809, 787, 784, 786, 782, 779, 774, 754, 734, 718, 705], 'all_points_y': [196, 162, 122, 80, 43, 15, 2, 1, 19, 44, 78, 117, 147, 169, 197, 221, 240, 244, 250, 254, 254, 248, 242, 238, 228, 211, 196]}, 'region_attributes': {}}}}}\n"
     ]
    }
   ],
   "source": [
    "#image_id = file_name + image_size\n",
    "    #grab file_name\n",
    "    #grab image_size\n",
    "heights = []\n",
    "widths = []\n",
    "file_names = []\n",
    "xmins = [] # List of normalized left x coordinates in bounding box (1 per box)\n",
    "xmaxs = [] # List of normalized right x coordinates in bounding box\n",
    "           # (1 per box)\n",
    "ymins = [] # List of normalized top y coordinates in bounding box (1 per box)\n",
    "ymaxs = [] # List of normalized bottom y coordinates in bounding box\n",
    "           # (1 per box)\n",
    "dic = []    \n",
    "\n",
    "#path to my images (this directory has the csv and png files)\n",
    "image_path = ('/Users/rurikoimai/Desktop/Mask/Mask_RCNN/samples/monkey/monkey/train/') \n",
    "#roi_files grabs all the csv files in image_path\n",
    "roi_files = glob(image_path + '/*.csv')\n",
    "\n",
    "for roi_file in roi_files:\n",
    "    with open(roi_file) as fp:\n",
    "        roi_list = [x.strip().split(',') for x in fp.readlines()] #getting coordinates, xmin,ymin,xmax,ymax\n",
    "    image_file = roi_file[:-4]+'.png'\n",
    "    file_name = os.path.basename(roi_file)[:-4]+'.png' #file_name\n",
    "    img_bytes = os.stat(image_file) #image_size in bytes\n",
    "    image_id = str(file_name) + str(img_bytes.st_size) #file_name + image_bytes\n",
    "    dic = [\n",
    "    (\"fileref\",\"\"),\n",
    "    (\"size\",img_bytes.st_size),\n",
    "    (\"filename\",file_name),\n",
    "    (\"base64_img_data\",\"\"),\n",
    "    (\"file_attributes\",{}),\n",
    "       \n",
    "    (\"regions\",{\"0\"\n",
    "                 :{\"shape_attributes\"\n",
    "                  :{\"name\"\n",
    "                   :\"rect\",\n",
    "                  \"x\"\n",
    "                  :xmins,\n",
    "                 \"y\":ymins,\n",
    "                    \"height\": '200'\n",
    "                },\n",
    "               \"region_attributes\":{}},\n",
    "                \"1\"\n",
    "                :{\"shape_attributes\"\n",
    "                  :{\"name\"\n",
    "                    :\"polygon\",\n",
    "                    \"all_points_x\"\n",
    "                    :[453,417,393,382,371,364,362,363,364,368,381,394,399,524,548,559,567,565,557,545,528,514,514,522,522,515,509,507,507,489,466,453],\n",
    "                    \"all_points_y\"\n",
    "                    :[211,191,166,149,133,111,86,65,51,40,21,5,1,0,24,55,83,113,151,179,198,209,215,219,221,224,226,221,212,218,215,211]},\n",
    "                  \"region_attributes\":{}},\n",
    "                \"2\"\n",
    "                :{\"shape_attributes\"\n",
    "                  :{\"name\"\n",
    "                    :\"polygon\",\n",
    "                    \"all_points_x\"\n",
    "                    :[705,684,672,671,683,702,716,878,893,906,914,913,907,895,870,844,809,787,784,786,782,779,774,754,734,718,705],\n",
    "                    \"all_points_y\"\n",
    "                    :[196,162,122,80,43,15,2,1,19,44,78,117,147,169,197,221,240,244,250,254,254,248,242,238,228,211,196]},\n",
    "                  \"region_attributes\":{}}})]\n",
    "    dict1 = dict(dic)\n",
    "    dict2[image_id] = dict1\n",
    "print(dict2)"
   ]
  },
  {
   "cell_type": "code",
   "execution_count": 273,
   "metadata": {},
   "outputs": [
    {
     "name": "stdout",
     "output_type": "stream",
     "text": [
      "0\n",
      "1\n",
      "0\n"
     ]
    }
   ],
   "source": [
    "heights = []\n",
    "widths = []\n",
    "file_names = []\n",
    "xmins = [] # List of normalized left x coordinates in bounding box (1 per box)\n",
    "xmaxs = [] # List of normalized right x coordinates in bounding box\n",
    "           # (1 per box)\n",
    "ymins = [] # List of normalized top y coordinates in bounding box (1 per box)\n",
    "ymaxs = [] # List of normalized bottom y coordinates in bounding box\n",
    "           # (1 per box)\n",
    "    \n",
    "image_file = roi_file[:-4]+'.png'\n",
    "img = mpimg.imread(image_file)\n",
    "\n",
    "for roi_file in roi_files:\n",
    "    with open(roi_file) as fp:\n",
    "        roi_list = [x.strip().split(',') for x in fp.readlines()] #getting coordinates, xmin,ymin,xmax,ymax\n",
    "        #print(len(roi_list))\n",
    "        for i in range(len(roi_list)):\n",
    "            print(i)\n",
    "            dic = (\"regions\",{i\n",
    "                 :{\"shape_attributes\"\n",
    "                  :{\"name\"\n",
    "                   :\"rect\",\n",
    "                  \"x\"\n",
    "                  :roi_list[i][0],\n",
    "                 \"y\"\n",
    "                    :roi_list[i][1],\n",
    "                    \"height\": '200'\n",
    "                },\n",
    "               \"region_attributes\":{}}},\n",
    "            )\n",
    "        #print(dic)"
   ]
  }
 ],
 "metadata": {
  "kernelspec": {
   "display_name": "Python 3",
   "language": "python",
   "name": "python3"
  },
  "language_info": {
   "codemirror_mode": {
    "name": "ipython",
    "version": 3
   },
   "file_extension": ".py",
   "mimetype": "text/x-python",
   "name": "python",
   "nbconvert_exporter": "python",
   "pygments_lexer": "ipython3",
   "version": "3.6.5"
  }
 },
 "nbformat": 4,
 "nbformat_minor": 2
}
